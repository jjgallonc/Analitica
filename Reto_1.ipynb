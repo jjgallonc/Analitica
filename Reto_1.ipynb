{
  "nbformat": 4,
  "nbformat_minor": 0,
  "metadata": {
    "colab": {
      "provenance": [],
      "authorship_tag": "ABX9TyPrqVktp5KpVcnwrKwpFE3z",
      "include_colab_link": true
    },
    "kernelspec": {
      "name": "python3",
      "display_name": "Python 3"
    },
    "language_info": {
      "name": "python"
    }
  },
  "cells": [
    {
      "cell_type": "markdown",
      "metadata": {
        "id": "view-in-github",
        "colab_type": "text"
      },
      "source": [
        "<a href=\"https://colab.research.google.com/github/jjgallonc/Analitica/blob/main/Reto_1.ipynb\" target=\"_parent\"><img src=\"https://colab.research.google.com/assets/colab-badge.svg\" alt=\"Open In Colab\"/></a>"
      ]
    },
    {
      "cell_type": "code",
      "execution_count": null,
      "metadata": {
        "colab": {
          "base_uri": "https://localhost:8080/"
        },
        "id": "4SJ-X8xwUuJs",
        "outputId": "7f96d8c2-bac2-498f-f86a-6af1094e4d9b"
      },
      "outputs": [
        {
          "output_type": "stream",
          "name": "stdout",
          "text": [
            "Tamaño de la base de datos:  5683\n",
            "Porcentaje de personas que viven en ciudad:  79.35949322540911 %\n",
            "Porcentaje de personas que viven en area rural:  20.640506774590886 %\n",
            "La media de las variables por categoría:  [[1.83810742e+01 1.07612958e+01 1.03324808e+01 6.72148338e+01\n",
            "  1.48857630e+02 3.03672506e+04 4.74168798e+00 2.20272805e+01]\n",
            " [1.83569845e+01 1.11769401e+01 1.12565410e+01 6.69031042e+01\n",
            "  1.44760976e+02 3.34278929e+04 4.68780488e+00 2.26004435e+01]]\n",
            "Los límites inferiores son:  [[ 1.58996876e+01  7.58892579e+00  6.46311334e+00  6.31369799e+01\n",
            "   1.18746964e+02 -1.33465823e+03  2.16621834e+00  1.78344685e+01]\n",
            " [ 1.58811112e+01  7.79013864e+00  7.15097738e+00  6.26897933e+01\n",
            "   1.14669654e+02 -2.69533531e+03  2.24996381e+00  1.84154526e+01]]\n",
            "Los límites superiores son:  [[2.08624608e+01 1.39336659e+01 1.42018483e+01 7.12926877e+01\n",
            "  1.78968296e+02 6.20691595e+04 7.31715762e+00 2.62200925e+01]\n",
            " [2.08328577e+01 1.45637416e+01 1.53621047e+01 7.11164151e+01\n",
            "  1.74852297e+02 6.95511211e+04 7.12564594e+00 2.67854344e+01]]\n",
            "La matriz de confusión:  [[   2 1171]\n",
            " [   4 4506]]\n",
            "Exactitud del modelo: 0.7932430054548654\n",
            "Precisión del modelo: 0.9991130820399113\n",
            "Sensibilidad del modelo: 0.793729082261758\n",
            "Especificidad del modelo: 0.3333333333333333\n",
            "Tasa de error del modelo: 0.2067569945451346\n",
            "Predicción negativa del modelo: 0.0017050298380221654\n",
            "[1.]\n"
          ]
        }
      ],
      "source": [
        "import numpy as np\n",
        "import pandas as pd\n",
        "from sklearn.naive_bayes import GaussianNB\n",
        "from sklearn.metrics import confusion_matrix\n",
        "\n",
        "db=\"/content/reto1.xlsx\"\n",
        "data=pd.read_excel(db,sheet_name=0)\n",
        "data.dropna(inplace=True)\n",
        "data=data[[\"Age\",\"Mother_Edu\",\"Father_Edu\",\"Height\",\"Weight\",\"Income\",\"FamilySize\",\"Self_Esteem\",\"Urban\"]]\n",
        "dx=np.array(data[[\"Age\",\"Mother_Edu\",\"Father_Edu\",\"Height\",\"Weight\",\"Income\",\"FamilySize\",\"Self_Esteem\"]])\n",
        "dy=np.array(data[\"Urban\"])\n",
        "\n",
        "td=len(data)\n",
        "print(\"Tamaño de la base de datos: \",td)\n",
        "porcentaje_dy_1 = (dy[dy == 1].shape[0] / dy.shape[0]) * 100\n",
        "print(\"Porcentaje de personas que viven en ciudad: \", porcentaje_dy_1, \"%\")\n",
        "porcentaje_dy_0 = (dy[dy == 0].shape[0] / dy.shape[0]) * 100\n",
        "print(\"Porcentaje de personas que viven en area rural: \", porcentaje_dy_0, \"%\")\n",
        "\n",
        "from functools import cmp_to_key\n",
        "mnb=GaussianNB()\n",
        "mnb.fit(dx, dy)\n",
        "dyp=mnb.predict(dx)\n",
        "u=mnb.theta_\n",
        "sigma=np.sqrt(mnb.var_)\n",
        "li=u-sigma\n",
        "ls=u+sigma\n",
        "print(\"La media de las variables por categoría: \",u)\n",
        "print(\"Los límites inferiores son: \",li)\n",
        "print(\"Los límites superiores son: \",ls)\n",
        "cm=confusion_matrix(dy,dyp)\n",
        "print(\"La matriz de confusión: \",cm)\n",
        "\n",
        "VN=cm[0,0]\n",
        "FP=cm[0,1]\n",
        "FN=cm[1,0]\n",
        "VP=cm[1,1]\n",
        "Exactitud=(VP+VN)/len(dx)\n",
        "print(\"Exactitud del modelo:\", Exactitud)\n",
        "Precision=VP/(VP+FN)\n",
        "print(\"Precisión del modelo:\", Precision)\n",
        "Sensibilidad=VP/(VP+FP)\n",
        "print(\"Sensibilidad del modelo:\", Sensibilidad)\n",
        "Especificidad=VN/(VN+FN)\n",
        "print(\"Especificidad del modelo:\", Especificidad)\n",
        "TasaError=(FP+FN)/len(dx)\n",
        "print(\"Tasa de error del modelo:\", TasaError)\n",
        "PrediccionNegativa=VN/(VN+FP)\n",
        "print(\"Predicción negativa del modelo:\", PrediccionNegativa)\n",
        "\n",
        "Xun=np.array([[34,9,6,65,135,50000,3,30]])\n",
        "ydun=mnb.predict(Xun)\n",
        "print(ydun)"
      ]
    },
    {
      "cell_type": "markdown",
      "source": [
        "Al evaluar los datos y aplicar un modelo Naive Bayes, se encontraron varios resultados interesantes. En primer lugar, los intervalos de las variables de edad y tamaño de la familia son prácticamente iguales entre las personas de áreas rurales y urbanas. Sin embargo, existen diferencias significativas en educación, ingresos y autoestima. En las zonas urbanas, los padres y madres suelen tener un nivel educativo superior, y las personas en estas áreas presentan mayor autoestima y una mayor variabilidad en sus ingresos.\n",
        "\n",
        "El modelo logró clasificar correctamente el 79.32% del total de instancias. Además, mostró una precisión del 99.91% y una sensibilidad del 79.37% al identificar a los residentes urbanos, demostrando una gran eficacia en este aspecto. No obstante, la especificidad fue de solo el 33.33% y el valor de predicción negativa fue de 0.17%, lo que indica una menor eficacia para identificar a los residentes rurales de manera correcta.\n",
        "\n",
        "El modelo resultó siendo muy efectivo para clasificar a las personas que viven en áreas urbanas, aunque su capacidad para clasificar correctamente a los que viven en áreas rurales es limitada."
      ],
      "metadata": {
        "id": "sAMwkOvVol5w"
      }
    }
  ]
}