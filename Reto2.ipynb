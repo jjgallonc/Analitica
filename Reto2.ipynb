{
  "nbformat": 4,
  "nbformat_minor": 0,
  "metadata": {
    "colab": {
      "provenance": [],
      "authorship_tag": "ABX9TyO1+Jy5SpdeBNTPLUP0PxeW",
      "include_colab_link": true
    },
    "kernelspec": {
      "name": "python3",
      "display_name": "Python 3"
    },
    "language_info": {
      "name": "python"
    }
  },
  "cells": [
    {
      "cell_type": "markdown",
      "metadata": {
        "id": "view-in-github",
        "colab_type": "text"
      },
      "source": [
        "<a href=\"https://colab.research.google.com/github/jjgallonc/Analitica/blob/main/Reto2.ipynb\" target=\"_parent\"><img src=\"https://colab.research.google.com/assets/colab-badge.svg\" alt=\"Open In Colab\"/></a>"
      ]
    },
    {
      "cell_type": "markdown",
      "source": [
        "0. Cargar Librerías de referencia"
      ],
      "metadata": {
        "id": "x-ZZDMdQXYNA"
      }
    },
    {
      "cell_type": "code",
      "source": [
        "import pandas as pd\n",
        "import numpy as np\n",
        "import matplotlib.pyplot as plt\n",
        "from sklearn.tree import DecisionTreeClassifier\n",
        "from sklearn.preprocessing import LabelEncoder"
      ],
      "metadata": {
        "id": "P4qKy67qXgbs"
      },
      "execution_count": null,
      "outputs": []
    },
    {
      "cell_type": "markdown",
      "source": [
        "1. Se transforman las variables categoricas"
      ],
      "metadata": {
        "id": "E46kIppua4pe"
      }
    },
    {
      "cell_type": "code",
      "source": [
        "le=LabelEncoder()\n",
        "XD[:,0]=le.fit_transform(XD[:,0])\n",
        "YD=le.fit_transform(YD)"
      ],
      "metadata": {
        "colab": {
          "base_uri": "https://localhost:8080/"
        },
        "id": "EW2VdQjSa8Az",
        "outputId": "9ca78b03-3e80-4ca3-d929-8994920d8687"
      },
      "execution_count": null,
      "outputs": [
        {
          "output_type": "stream",
          "name": "stderr",
          "text": [
            "/usr/local/lib/python3.10/dist-packages/sklearn/preprocessing/_label.py:114: DataConversionWarning: A column-vector y was passed when a 1d array was expected. Please change the shape of y to (n_samples, ), for example using ravel().\n",
            "  y = column_or_1d(y, warn=True)\n"
          ]
        }
      ]
    },
    {
      "cell_type": "markdown",
      "source": [
        "2. Cargar datos del archivo"
      ],
      "metadata": {
        "id": "9zUeNPoDXzD5"
      }
    },
    {
      "cell_type": "code",
      "source": [
        "nxl='/content/DB.Reto2.xlsx'\n",
        "XDB=pd.read_excel(nxl,sheet_name=0)\n",
        "XDB=XDB.dropna()\n",
        "\n",
        "XD=np.array(XDB[['College','FoodSpend','Income','TravelSpend']])\n",
        "YD=np.array(XDB[['CreditCard']])"
      ],
      "metadata": {
        "id": "ZR_b8XgNX1n3"
      },
      "execution_count": null,
      "outputs": []
    },
    {
      "cell_type": "markdown",
      "source": [
        "3. Creación del modelo"
      ],
      "metadata": {
        "id": "BugngrOeY0W_"
      }
    },
    {
      "cell_type": "code",
      "source": [
        "mar=DecisionTreeClassifier(criterion='gini',max_depth=4)\n",
        "mar.fit(XD,YD)\n",
        "ydp=mar.predict(XD)\n",
        "\n",
        "from sklearn.metrics import confusion_matrix\n",
        "cm=confusion_matrix(YD,ydp)\n",
        "print(cm)\n",
        "\n",
        "VN=cm[0,0]; FP=cm[0,1]; FN=cm[1,0]; VP=cm[1,1]\n",
        "\n",
        "Exactitud=(VP+VN)/(VP+VN+FP+FN)\n",
        "Sensibilidad=VP/(VP+FN)\n",
        "Especificidad=VN/(VN+FP)\n",
        "\n",
        "print('La Exactitud del Modelo fue:', Exactitud)\n",
        "print('La Sensibilidad del Modelo fue:', Sensibilidad)\n",
        "print('La Especificidad del Modelo fue:', Especificidad)"
      ],
      "metadata": {
        "colab": {
          "base_uri": "https://localhost:8080/"
        },
        "id": "SGUNnTX0ZAIS",
        "outputId": "19486e3b-846b-4cd6-e65b-6ce06b05a407"
      },
      "execution_count": null,
      "outputs": [
        {
          "output_type": "stream",
          "name": "stdout",
          "text": [
            "[[334   9]\n",
            " [ 42 115]]\n",
            "La Exactitud del Modelo fue: 0.898\n",
            "La Sensibilidad del Modelo fue: 0.732484076433121\n",
            "La Especificidad del Modelo fue: 0.9737609329446064\n"
          ]
        }
      ]
    },
    {
      "cell_type": "markdown",
      "source": [
        "4. Cargar librerías para graficar el arbol"
      ],
      "metadata": {
        "id": "b5CBZR0-cHhZ"
      }
    },
    {
      "cell_type": "code",
      "source": [
        "from sklearn.tree import export_graphviz\n",
        "from pydotplus import graph_from_dot_data\n",
        "\n",
        "vs=['College','FoodSpend','Income','TravelSpend']\n",
        "dot_graph=export_graphviz(mar,feature_names=vs)\n",
        "graph=graph_from_dot_data(dot_graph)\n",
        "graph.write_png('arbol.png')"
      ],
      "metadata": {
        "colab": {
          "base_uri": "https://localhost:8080/"
        },
        "id": "qyQgNz3zcKkB",
        "outputId": "f92dc96c-d88d-4d47-cb56-779be56f258f"
      },
      "execution_count": null,
      "outputs": [
        {
          "output_type": "execute_result",
          "data": {
            "text/plain": [
              "True"
            ]
          },
          "metadata": {},
          "execution_count": 8
        }
      ]
    },
    {
      "cell_type": "markdown",
      "source": [
        "5. Evaluar personas"
      ],
      "metadata": {
        "id": "XCf7gubYdoYx"
      }
    },
    {
      "cell_type": "code",
      "source": [
        "Xun1=np.array([[0,2892.9,65982,2151.6]])\n",
        "ydun1=mar.predict(Xun1)\n",
        "print(ydun1)\n",
        "\n",
        "Xun2=np.array([[1,6017.66,53986,2002.5]])\n",
        "ydun2=mar.predict(Xun2)\n",
        "print(ydun2)"
      ],
      "metadata": {
        "colab": {
          "base_uri": "https://localhost:8080/"
        },
        "id": "y8ECuMaLdq1_",
        "outputId": "c787af85-4704-489e-c716-69a3bb7dd8b4"
      },
      "execution_count": null,
      "outputs": [
        {
          "output_type": "stream",
          "name": "stdout",
          "text": [
            "[0]\n",
            "[0]\n"
          ]
        }
      ]
    },
    {
      "cell_type": "markdown",
      "source": [
        "El modelo de árbol de decisión utiliza las variables \"College\", \"Food Spend\", \"Income\", y \"Travel Spend\" para predecir si un cliente usará su tarjeta de crédito en gastos de viaje y alimentos, siendo \"Credit Card\" la variable objetivo. Con una exactitud del 89.8%, el modelo demuestra un alto nivel de precisión general, clasificando correctamente la mayoría de los casos. La sensibilidad del 73.2% indica que es razonablemente efectivo en identificar a los clientes que usarán la tarjeta. Por otro lado, la especificidad del 97.4% muestra que el modelo es muy eficiente en evitar casos negativos, identificando correctamente a aquellos que no usarán la tarjeta. En cuanto a las reglas de negocio, para el individuo 1 se determinó que si el \"Travel Spend\" es mayor o igual a 1567 y \"Income\" supera los 59098, es probable que use la tarjeta; mientras que para el individuo 2, si el \"Travel Spend\" es mayor o igual a 1567, el \"Income\" es menor a 59098, y \"Food Spend\" es mayor a 2711, también se considera un posible usuario de crédito. En resumen, el modelo de árbol de decisión se presenta como una herramienta confiable y eficaz para predecir el uso de tarjetas de crédito, destacando en la identificación precisa de los casos negativos, con una buena capacidad para clasificar correctamente los positivos."
      ],
      "metadata": {
        "id": "GOeQWUbK4BKg"
      }
    }
  ]
}