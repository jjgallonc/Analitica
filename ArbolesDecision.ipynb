{
  "nbformat": 4,
  "nbformat_minor": 0,
  "metadata": {
    "colab": {
      "provenance": [],
      "authorship_tag": "ABX9TyMoxs7898n52SgF+6STuEwp",
      "include_colab_link": true
    },
    "kernelspec": {
      "name": "python3",
      "display_name": "Python 3"
    },
    "language_info": {
      "name": "python"
    }
  },
  "cells": [
    {
      "cell_type": "markdown",
      "metadata": {
        "id": "view-in-github",
        "colab_type": "text"
      },
      "source": [
        "<a href=\"https://colab.research.google.com/github/jjgallonc/Analitica/blob/main/ArbolesDecision.ipynb\" target=\"_parent\"><img src=\"https://colab.research.google.com/assets/colab-badge.svg\" alt=\"Open In Colab\"/></a>"
      ]
    },
    {
      "cell_type": "markdown",
      "source": [
        "0. Cargar Librerías de referencia"
      ],
      "metadata": {
        "id": "WvyInrTvmGq2"
      }
    },
    {
      "cell_type": "code",
      "source": [
        "import pandas as pd\n",
        "import numpy as np\n",
        "import matplotlib.pyplot as plt\n",
        "from sklearn.tree import DecisionTreeClassifier\n",
        "\n",
        "#Para no tener que cargar nuevamente el archivo\n",
        "from google.colab import drive\n",
        "drive.mount('/content/drive')\n"
      ],
      "metadata": {
        "colab": {
          "base_uri": "https://localhost:8080/"
        },
        "id": "r3C1qZxhmpdE",
        "outputId": "c5d4756d-d9c2-46ea-8b91-68d7ed615856"
      },
      "execution_count": null,
      "outputs": [
        {
          "output_type": "stream",
          "name": "stdout",
          "text": [
            "Mounted at /content/drive\n"
          ]
        }
      ]
    },
    {
      "cell_type": "markdown",
      "source": [
        "1. Se cargan los datos del archivo SolicitantesCredito.xslx"
      ],
      "metadata": {
        "id": "o9sb2GUKpKI-"
      }
    },
    {
      "cell_type": "code",
      "source": [
        "nxl='/content/drive/MyDrive/Analitica de Negocios/SolicitantesCrédito.xlsx'\n",
        "XDB=pd.read_excel(nxl,sheet_name=1)\n",
        "XDB=XDB.dropna()  #Elimina celdas vacías\n",
        "\n",
        "#Se procede con la selección de las variables de trabajo\n",
        "XD=np.array(XDB[['Edad','Ingresos','Egresos','Monto (EAD)']]) #Datos de entrada\n",
        "YD=np.array(XDB['PreApr'])                                    #Datos de salida"
      ],
      "metadata": {
        "collapsed": true,
        "id": "6PjjFKJ6pPyT"
      },
      "execution_count": null,
      "outputs": []
    },
    {
      "cell_type": "markdown",
      "source": [
        "2. Creación del modelo (Decision Tree)"
      ],
      "metadata": {
        "id": "u6qqpnOIsJdk"
      }
    },
    {
      "cell_type": "code",
      "source": [
        "mar=DecisionTreeClassifier(criterion='gini', max_depth=4) #4 niveles o variables de entrada\n",
        "mar.fit(XD,YD)\n",
        "ydp=mar.predict(XD)\n",
        "\n",
        "from sklearn.metrics import confusion_matrix\n",
        "cm=confusion_matrix(YD,ydp)\n",
        "print(cm)\n",
        "\n",
        "#Evaluamos el modelo\n",
        "VN=cm[0,0];FP=cm[0,1];FN=cm[1,0];VP=cm[1,1]\n",
        "\n",
        "Exactitud=(VP+VN)/(VP+VN+FP+FN) #Qué porcentaje de los datos pronosticó correctamente\n",
        "Sensibilidad=VP/(VP+FN)         #Qué porcentaje de los positivos pronosticado correctamente\n",
        "Especificidad=VN/(VN+FP)        #Qué porcentaje de los negativos pronosticado correctamente\n",
        "\n",
        "print('La exactitud del modelo fue:', Exactitud)\n",
        "print('La sensibilidad del modelo fue:', Sensibilidad)\n",
        "print('La especificidad del modelo fue:', Especificidad)"
      ],
      "metadata": {
        "colab": {
          "base_uri": "https://localhost:8080/"
        },
        "id": "PBgl3S4EsO6e",
        "outputId": "97401fbe-3dff-45d2-b036-0c9ed80b88d5"
      },
      "execution_count": null,
      "outputs": [
        {
          "output_type": "stream",
          "name": "stdout",
          "text": [
            "[[2301  658]\n",
            " [ 644 2239]]\n",
            "La exactitud del modelo fue: 0.7771311194796303\n",
            "La sensibilidad del modelo fue: 0.7766215747485259\n",
            "La especificidad del modelo fue: 0.7776275768840825\n"
          ]
        }
      ]
    },
    {
      "cell_type": "markdown",
      "source": [
        "3. Cargar librerías para graficar el árbol"
      ],
      "metadata": {
        "id": "oCe54Rxov0yb"
      }
    },
    {
      "cell_type": "code",
      "source": [
        "from sklearn.tree import export_graphviz\n",
        "from pydotplus import graph_from_dot_data\n",
        "\n",
        "vs=['Edad','Ingresos','Egresos','Monto (EAD)'] #Títulos para los nodos\n",
        "dot_graph=export_graphviz(mar, feature_names=vs)\n",
        "graph=graph_from_dot_data(dot_graph)\n",
        "graph.write_png('arbol.png')"
      ],
      "metadata": {
        "colab": {
          "base_uri": "https://localhost:8080/"
        },
        "id": "9lL5pXGov3yK",
        "outputId": "7097e216-19db-477b-9d48-afe4bbae0ca5"
      },
      "execution_count": null,
      "outputs": [
        {
          "output_type": "execute_result",
          "data": {
            "text/plain": [
              "True"
            ]
          },
          "metadata": {},
          "execution_count": 17
        }
      ]
    }
  ]
}